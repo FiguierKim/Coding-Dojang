{
 "cells": [
  {
   "cell_type": "code",
   "execution_count": 17,
   "metadata": {},
   "outputs": [
    {
     "name": "stdout",
     "output_type": "stream",
     "text": [
      "93150\n"
     ]
    }
   ],
   "source": [
    "print(sum(eval('*'.join(str(x))) for x in range(10,1001)))"
   ]
  },
  {
   "cell_type": "code",
   "execution_count": 24,
   "metadata": {},
   "outputs": [
    {
     "name": "stdout",
     "output_type": "stream",
     "text": [
      "93150\n"
     ]
    }
   ],
   "source": [
    "print(eval('+'.join('*'.join(str(x)) for x in range(10, 1001))))"
   ]
  },
  {
   "cell_type": "code",
   "execution_count": 3,
   "metadata": {},
   "outputs": [
    {
     "name": "stdout",
     "output_type": "stream",
     "text": [
      "1 1 \n",
      " 0\n"
     ]
    }
   ],
   "source": [
    "w, h = map(int,input().split())\n",
    "t = eval(repr([[0]*h]*w))\n",
    "ds = [[1,0],[0,1],[-1,0],[0,-1]]\n",
    "e=x=y=d=0\n",
    "\n",
    "\n",
    "for i in range(w*h):\n",
    "    t[x][y] = i\n",
    "    if x+ds[d][0] in [e-1-(1 if d==3 else 0),w-e] or y+ds[d][1] in [e-1,h-e]:\n",
    "        d = (d+1)%4\n",
    "        e += d//3\n",
    "    x, y = map(sum,zip(ds[d],[x,y]))\n",
    "    \n",
    "    \n",
    "for i in range(w*h):\n",
    "    print((\"%%%dd\" % (len(str(w*h-1))+1)) % t[i%w][i//w], end=('\\n' if i%w==w-1 else ''))"
   ]
  },
  {
   "cell_type": "code",
   "execution_count": null,
   "metadata": {},
   "outputs": [],
   "source": []
  }
 ],
 "metadata": {
  "kernelspec": {
   "display_name": "Python 3",
   "language": "python",
   "name": "python3"
  }
 },
 "nbformat": 4,
 "nbformat_minor": 2
}
