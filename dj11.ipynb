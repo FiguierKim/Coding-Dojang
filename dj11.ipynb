{
 "cells": [
  {
   "cell_type": "code",
   "execution_count": 21,
   "metadata": {},
   "outputs": [
    {
     "name": "stdout",
     "output_type": "stream",
     "text": [
      "168\n"
     ]
    }
   ],
   "source": [
    "def sieve(n):\n",
    "    if n < 2:\n",
    "        return []\n",
    "    s = [0, 0] + [1] * (n - 1)\n",
    "    for i in range(2, int(n**.5)+1):\n",
    "        if s[i]:\n",
    "            s[i*2::i] = [0] * ((n - i)//i)\n",
    "    return [i for i, v in enumerate(s) if v]\n",
    "\n",
    "print(len(sieve(1000)))"
   ]
  },
  {
   "cell_type": "code",
   "execution_count": null,
   "metadata": {},
   "outputs": [],
   "source": []
  }
 ],
 "metadata": {
  "kernelspec": {
   "display_name": "Python 3",
   "language": "python",
   "name": "python3"
  },
  "language_info": {
   "codemirror_mode": {
    "name": "ipython",
    "version": 3
   },
   "file_extension": ".py",
   "mimetype": "text/x-python",
   "name": "python",
   "nbconvert_exporter": "python",
   "pygments_lexer": "ipython3",
   "version": "3.7.5"
  }
 },
 "nbformat": 4,
 "nbformat_minor": 2
}
