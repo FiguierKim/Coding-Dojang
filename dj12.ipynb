{
 "cells": [
  {
   "cell_type": "code",
   "execution_count": 1,
   "metadata": {},
   "outputs": [
    {
     "name": "stdout",
     "output_type": "stream",
     "text": [
      "INPUT MIN NUM : 5\n",
      "INPUT MAX NUM : 6\n",
      "9\n"
     ]
    }
   ],
   "source": [
    "def cypro(k):\n",
    "    cl=1\n",
    "    while k != 1:\n",
    "        if k%2==0:\n",
    "            k=k/2\n",
    "            cl+=1\n",
    "        else:\n",
    "            k=3*k+1\n",
    "            cl+=1\n",
    "    return cl\n",
    "\n",
    "i=int(input('INPUT MIN NUM : '))\n",
    "j=int(input('INPUT MAX NUM : '))\n",
    "t=0\n",
    "arw=[]\n",
    "\n",
    "for t in range(i,j+1):\n",
    "    arw.append(cypro(t))\n",
    "print(max(arw))"
   ]
  },
  {
   "cell_type": "code",
   "execution_count": null,
   "metadata": {},
   "outputs": [],
   "source": []
  },
  {
   "cell_type": "code",
   "execution_count": null,
   "metadata": {},
   "outputs": [],
   "source": []
  }
 ],
 "metadata": {
  "kernelspec": {
   "display_name": "Python 3",
   "language": "python",
   "name": "python3"
  },
  "language_info": {
   "codemirror_mode": {
    "name": "ipython",
    "version": 3
   },
   "file_extension": ".py",
   "mimetype": "text/x-python",
   "name": "python",
   "nbconvert_exporter": "python",
   "pygments_lexer": "ipython3",
   "version": "3.7.5"
  }
 },
 "nbformat": 4,
 "nbformat_minor": 2
}
