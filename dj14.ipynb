{
 "cells": [
  {
   "cell_type": "code",
   "execution_count": 1,
   "metadata": {},
   "outputs": [
    {
     "name": "stdout",
     "output_type": "stream",
     "text": [
      "3 567\n",
      " ---   ---   --- \n",
      "|     |         |\n",
      "|     |         |\n",
      "|     |         |\n",
      " ---   ---       \n",
      "    | |   |     |\n",
      "    | |   |     |\n",
      "    | |   |     |\n",
      " ---   ---       \n",
      "                 \n",
      "0 0\n"
     ]
    }
   ],
   "source": [
    "p=1\n",
    "while p:\n",
    "     p, q= input().split();p=int(p)\n",
    "     if p:\n",
    "        for x in[28728]+[609961108]*p+[14680127]+[340862356]*p+[14708792,-1]:\n",
    "            print(' '.join(d[0]+d[1]*p+d[2]for d in[' -  | |   '[x>>int(j)*3&7:]for j in q]))"
   ]
  },
  {
   "cell_type": "code",
   "execution_count": 63,
   "metadata": {},
   "outputs": [
    {
     "name": "stdout",
     "output_type": "stream",
     "text": [
      "        \n",
      "|    |\n",
      "|    |\n",
      "  --  \n",
      "      |\n",
      "      |\n",
      "        \n",
      "          \n",
      "|      |\n",
      "|      |\n",
      "|      |\n",
      "  ---  \n",
      "        |\n",
      "        |\n",
      "        |\n",
      "          \n",
      "\n",
      "다음부터 이런 모양 만드는 문제는 안풀어야지\n"
     ]
    }
   ],
   "source": [
    "tbl = ('1110111', \n",
    "       '0010010', \n",
    "       '1011101', \n",
    "       '1011011', \n",
    "       '0111010', \n",
    "       '1101011', \n",
    "       '1101111', \n",
    "       '1010010', \n",
    "       '1111111', \n",
    "       '1111011');\n",
    "\n",
    "def digitToStringLine(altitude, digit, s):\n",
    "\n",
    "    t = tbl[int(digit)]\n",
    "    F = lambda i : t[i] == '1'\n",
    "\n",
    "    if 0 == altitude:\n",
    "        return F(0) and ('  ' + '-'*s + '  ') or ('  '*(s+2))\n",
    "    if altitude <= (s):\n",
    "        return (F(1) and '|' or '  ') + '  '*s + (F(2) and '|' or '  ')\n",
    "    if altitude == (1+s):\n",
    "        return F(3) and ('  ' + '-'*s + '  ') or ('  '*(s+2))\n",
    "    if altitude <= (1+s*2):\n",
    "        return (F(4) and '|' or '  ') + '  '*s + (F(5) and '|' or '  ')\n",
    "    return F(6) and ('  ' + '-'*s + '  ') or ('  '*(s+2))\n",
    "\n",
    "\n",
    "def numToStringLine(altitude, snum, s):\n",
    "    l = [digitToStringLine(altitude, c, s) for c in snum]\n",
    "    return ' '.join(l)\n",
    "\n",
    "def LCD(s, num):\n",
    "    snum = str(num)\n",
    "    l = [numToStringLine(i,snum,s) for i in range(3+s*2)]\n",
    "    return '\\n'.join(l)\n",
    "\n",
    "\n",
    "def display(lines):\n",
    "    lines = lines.strip().split('\\n')\n",
    "    for l in lines:\n",
    "        l = l.split()\n",
    "        s = int(l[0])\n",
    "        n = int(l[1])\n",
    "        if s == 0:\n",
    "            print()\n",
    "            print('다음부터 이런 모양 만드는 문제는 안풀어야지')\n",
    "            break;\n",
    "        print(LCD(s,n))\n",
    "\n",
    "l = '''\n",
    "2 4\n",
    "3 4\n",
    "0 0\n",
    "'''\n",
    "\n",
    "display(l)"
   ]
  },
  {
   "cell_type": "code",
   "execution_count": null,
   "metadata": {},
   "outputs": [],
   "source": []
  }
 ],
 "metadata": {
  "kernelspec": {
   "display_name": "Python 3",
   "language": "python",
   "name": "python3"
  },
  "language_info": {
   "codemirror_mode": {
    "name": "ipython",
    "version": 3
   },
   "file_extension": ".py",
   "mimetype": "text/x-python",
   "name": "python",
   "nbconvert_exporter": "python",
   "pygments_lexer": "ipython3",
   "version": "3.7.5"
  }
 },
 "nbformat": 4,
 "nbformat_minor": 2
}
