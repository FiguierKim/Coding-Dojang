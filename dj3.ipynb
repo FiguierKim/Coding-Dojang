{
 "cells": [
  {
   "cell_type": "code",
   "execution_count": 5,
   "metadata": {},
   "outputs": [],
   "source": [
    "def board(m,n):\n",
    "    page = m // n\n",
    "    if m % n != 0:\n",
    "        page += 1\n",
    "    print(page)"
   ]
  },
  {
   "cell_type": "code",
   "execution_count": 16,
   "metadata": {},
   "outputs": [
    {
     "name": "stdout",
     "output_type": "stream",
     "text": [
      "김씨 : 2\n",
      "이씨 : 6\n",
      "\n",
      "3\n",
      "['이유덕', '김재성', '박민호', '전경헌', '최승혁', '이재영', '이성연', '권종표', '송정환', '강상희', '박영서', '김지완']\n",
      "['강상희', '권종표', '김재성', '김지완', '박민호', '박영서', '송정환', '이성연', '이유덕', '이재영', '전경헌', '최승혁']\n"
     ]
    }
   ],
   "source": [
    "names = \"이유덕,이재영,권종표,이재영,박민호,강상희,이재영,김지완,최승혁,이성연,박영서,박민호,전경헌,송정환,김재성,이유덕,전경헌\".split(\",\")\n",
    "\n",
    "#1\n",
    "a=[ i[0] for i in names ]\n",
    "print(\"김씨 : %d\\n이씨 : %d\\n\"%(a.count(\"김\"), a.count(\"이\")))\n",
    "\n",
    "#2\n",
    "print(names.count(\"이재영\"))\n",
    "\n",
    "#3\n",
    "uniq_names = list(set(names))\n",
    "print(uniq_names)\n",
    "\n",
    "#4\n",
    "uniq_names.sort()\n",
    "print(uniq_names)"
   ]
  },
  {
   "cell_type": "code",
   "execution_count": null,
   "metadata": {},
   "outputs": [],
   "source": []
  }
 ],
 "metadata": {
  "kernelspec": {
   "display_name": "Python 3",
   "language": "python",
   "name": "python3"
  },
  "language_info": {
   "codemirror_mode": {
    "name": "ipython",
    "version": 3
   },
   "file_extension": ".py",
   "mimetype": "text/x-python",
   "name": "python",
   "nbconvert_exporter": "python",
   "pygments_lexer": "ipython3",
   "version": "3.7.5"
  }
 },
 "nbformat": 4,
 "nbformat_minor": 2
}
