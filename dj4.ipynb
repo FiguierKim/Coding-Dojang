{
 "cells": [
  {
   "cell_type": "code",
   "execution_count": 6,
   "metadata": {},
   "outputs": [
    {
     "name": "stdout",
     "output_type": "stream",
     "text": [
      "[-1, -2, 1, 3, 2]\n"
     ]
    }
   ],
   "source": [
    "ex = (-1, 1, 3, -2, 2)\n",
    "ans = ()\n",
    "\n",
    "for i in ex:\n",
    "  if i < 0:\n",
    "    ans = ans + (i,)\n",
    "\n",
    "for x in ex:\n",
    "  if x > 0:\n",
    "    ans = ans + (x,)\n",
    "    \n",
    "print(ans)"
   ]
  },
  {
   "cell_type": "code",
   "execution_count": 8,
   "metadata": {},
   "outputs": [
    {
     "ename": "SyntaxError",
     "evalue": "invalid syntax (<ipython-input-8-fc029246a342>, line 4)",
     "output_type": "error",
     "traceback": [
      "\u001b[1;36m  File \u001b[1;32m\"<ipython-input-8-fc029246a342>\"\u001b[1;36m, line \u001b[1;32m4\u001b[0m\n\u001b[1;33m    print do([-1, 1, 3, -2, 2])\u001b[0m\n\u001b[1;37m           ^\u001b[0m\n\u001b[1;31mSyntaxError\u001b[0m\u001b[1;31m:\u001b[0m invalid syntax\n"
     ]
    }
   ],
   "source": [
    "def do(alist):\n",
    "    return [x for x in alist if x < 0] + [x for x in alist if x >= 0]\n",
    "\n",
    "print do([-1, 1, 3, -2, 2])"
   ]
  },
  {
   "cell_type": "code",
   "execution_count": null,
   "metadata": {},
   "outputs": [],
   "source": []
  }
 ],
 "metadata": {
  "kernelspec": {
   "display_name": "Python 3",
   "language": "python",
   "name": "python3"
  },
  "language_info": {
   "codemirror_mode": {
    "name": "ipython",
    "version": 3
   },
   "file_extension": ".py",
   "mimetype": "text/x-python",
   "name": "python",
   "nbconvert_exporter": "python",
   "pygments_lexer": "ipython3",
   "version": "3.7.5"
  }
 },
 "nbformat": 4,
 "nbformat_minor": 2
}
