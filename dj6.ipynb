{
 "cells": [
  {
   "cell_type": "markdown",
   "metadata": {},
   "source": [
    "# 11/21"
   ]
  },
  {
   "cell_type": "code",
   "execution_count": 8,
   "metadata": {
    "scrolled": false
   },
   "outputs": [
    {
     "name": "stdout",
     "output_type": "stream",
     "text": [
      "[True, False, False, True, False]\n"
     ]
    }
   ],
   "source": [
    "print (list(map(lambda n:len(set(n))==10 and len(n) ==10 ,\"0123456789 01234 01234567890 6789012345 012322456789\".split())))"
   ]
  },
  {
   "cell_type": "markdown",
   "metadata": {},
   "source": [
    "## 못 했던 화요일 분량"
   ]
  },
  {
   "cell_type": "code",
   "execution_count": 10,
   "metadata": {},
   "outputs": [
    {
     "name": "stdout",
     "output_type": "stream",
     "text": [
      "1227365\n"
     ]
    }
   ],
   "source": [
    "def d_fn(n):\n",
    "    y = n\n",
    "    while n > 0:\n",
    "        y += n % 10\n",
    "        n //= 10\n",
    "    return y\n",
    "\n",
    "Z = [d_fn(n) for n in range(5000)]\n",
    "A = [n for n in range(5000) if n not in Z]\n",
    "print (sum(A))"
   ]
  },
  {
   "cell_type": "code",
   "execution_count": 18,
   "metadata": {},
   "outputs": [
    {
     "name": "stdout",
     "output_type": "stream",
     "text": [
      "1227365\n"
     ]
    }
   ],
   "source": [
    "def d_fn(n): return (n + sum([int(x) for x in str(n)]))\n",
    "\n",
    "Z = [d_fn(n) for n in range(5000)]\n",
    "A = [n for n in range(5000) if n not in Z]\n",
    "print (sum(A))"
   ]
  },
  {
   "cell_type": "code",
   "execution_count": 19,
   "metadata": {},
   "outputs": [
    {
     "name": "stdout",
     "output_type": "stream",
     "text": [
      "1227365\n"
     ]
    }
   ],
   "source": [
    "def d_fn(n): return (n + sum([int(x) for x in str(n)]))\n",
    "\n",
    "S = set(range(5000))\n",
    "Z = set([d_fn(n) for n in range(5000)])\n",
    "print (sum(S-Z))"
   ]
  },
  {
   "cell_type": "code",
   "execution_count": 20,
   "metadata": {},
   "outputs": [
    {
     "data": {
      "text/plain": [
       "1227365"
      ]
     },
     "execution_count": 20,
     "metadata": {},
     "output_type": "execute_result"
    }
   ],
   "source": [
    "sum(set(range(1, 5000)) - {x + sum([int(a) for a in str(x)]) for x in range(1, 5000)})"
   ]
  },
  {
   "cell_type": "code",
   "execution_count": null,
   "metadata": {},
   "outputs": [],
   "source": []
  }
 ],
 "metadata": {
  "kernelspec": {
   "display_name": "Python 3",
   "language": "python",
   "name": "python3"
  },
  "language_info": {
   "codemirror_mode": {
    "name": "ipython",
    "version": 3
   },
   "file_extension": ".py",
   "mimetype": "text/x-python",
   "name": "python",
   "nbconvert_exporter": "python",
   "pygments_lexer": "ipython3",
   "version": "3.7.5"
  }
 },
 "nbformat": 4,
 "nbformat_minor": 2
}
