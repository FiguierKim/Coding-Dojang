{
 "cells": [
  {
   "cell_type": "code",
   "execution_count": 33,
   "metadata": {},
   "outputs": [
    {
     "name": "stdout",
     "output_type": "stream",
     "text": [
      "문제 :  [4, 35, 43, 63, 68, 71, 73, 78, 89]\n",
      "[(71, 73)]\n"
     ]
    }
   ],
   "source": [
    "import random\n",
    "\n",
    "def spair(S):\n",
    "    dict = {}\n",
    "    for (x, y) in zip(S[:-1], S[1:]):\n",
    "        if not dict.get(y-x):\n",
    "            dict[y-x] = [(x,y)]\n",
    "        else:\n",
    "            dict[y-x] = dict[y-x] + [(x,y)]\n",
    "\n",
    "    return dict[min(dict.keys())]\n",
    "\n",
    "\n",
    "\n",
    "points = list(set(list([random.randint(1,100) for i in range(10)])))\n",
    "points.sort()\n",
    "\n",
    "print('문제 : ',points)\n",
    "\n",
    "\n",
    "\n",
    "print(spair(points))"
   ]
  },
  {
   "cell_type": "code",
   "execution_count": null,
   "metadata": {},
   "outputs": [],
   "source": []
  }
 ],
 "metadata": {
  "kernelspec": {
   "display_name": "Python 3",
   "language": "python",
   "name": "python3"
  },
  "language_info": {
   "codemirror_mode": {
    "name": "ipython",
    "version": 3
   },
   "file_extension": ".py",
   "mimetype": "text/x-python",
   "name": "python",
   "nbconvert_exporter": "python",
   "pygments_lexer": "ipython3",
   "version": "3.7.5"
  }
 },
 "nbformat": 4,
 "nbformat_minor": 2
}
